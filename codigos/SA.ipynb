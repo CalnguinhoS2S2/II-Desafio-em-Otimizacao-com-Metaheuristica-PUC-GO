{
 "cells": [
  {
   "cell_type": "code",
   "execution_count": 1,
   "metadata": {},
   "outputs": [],
   "source": [
    "import random"
   ]
  },
  {
   "cell_type": "code",
   "execution_count": 2,
   "metadata": {},
   "outputs": [],
   "source": [
    "def afdo_bin_packing(items, bin_capacity):\n",
    "    bins = []\n",
    "    \n",
    "    for item in sorted(items, reverse=True):\n",
    "        placed = False\n",
    "        \n",
    "        min_diff = bin_capacity + 1\n",
    "        best_bin = None\n",
    "        for bin in bins:\n",
    "            remaining_space = bin_capacity - sum(bin)\n",
    "            if remaining_space >= item and (remaining_space - item) < min_diff:\n",
    "                min_diff = remaining_space - item\n",
    "                best_bin = bin\n",
    "\n",
    "        if best_bin is not None:\n",
    "            best_bin.append(item)\n",
    "        else:\n",
    "            bins.append([item])\n",
    "    return bins"
   ]
  },
  {
   "cell_type": "code",
   "execution_count": 3,
   "metadata": {},
   "outputs": [],
   "source": [
    "\n",
    "def cost_solution(bins):\n",
    "    return len(bins)\n",
    "\t# caso queira calcular o fit em relação a quão cheias as caixas estaõ em uma solução, porem essa função fica O(quantas caixas*quantidade de itens)\n",
    "    #alfa = 0\n",
    "    #box = 0\n",
    "    #i = 1\n",
    "    #n = len(itens)\n",
    "    #for x in solution:\n",
    "    #    qt = 0\n",
    "    #    alfa = (sum(x)/BIN_CAPACITY)**i\n",
    "    #    i = i +1\n",
    "    #return 1-alfa/n"
   ]
  },
  {
   "cell_type": "code",
   "execution_count": 4,
   "metadata": {},
   "outputs": [],
   "source": [
    "def move_item_between_bins(bins, bin_capacity):\n",
    "    if len(bins) < 2:\n",
    "        return bins\n",
    "    bin1, bin2 = random.sample(bins, 2)\n",
    "    if not bin1:\n",
    "        return bins\n",
    "\n",
    "    item = random.choice(bin1)\n",
    "    if sum(bin2) + item <= bin_capacity:\n",
    "        bin1.remove(item)\n",
    "        bin2.append(item)\n",
    "\n",
    "        if not bin1:\n",
    "            bins.remove(bin1)\n",
    "    \n",
    "    return bins"
   ]
  },
  {
   "cell_type": "code",
   "execution_count": 5,
   "metadata": {},
   "outputs": [],
   "source": [
    "\n",
    "def swap_items_between_bins(bins, bin_capacity):\n",
    "    if len(bins) < 2:\n",
    "        return bins\n",
    "    bin1, bin2 = random.sample(bins, 2)\n",
    "    if not bin1 or not bin2:\n",
    "        return bins\n",
    "\n",
    "    item1 = random.choice(bin1)\n",
    "    item2 = random.choice(bin2)\n",
    "\n",
    "    bin1.remove(item1)\n",
    "    bin2.remove(item2)\n",
    "\n",
    "    if sum(bin1) + item2 <= bin_capacity and sum(bin2) + item1 <= bin_capacity:\n",
    "        bin1.append(item2)\n",
    "        bin2.append(item1)\n",
    "    else:\n",
    "        bin1.append(item1)\n",
    "        bin2.append(item2)\n",
    "\n",
    "    return bins"
   ]
  },
  {
   "cell_type": "code",
   "execution_count": 6,
   "metadata": {},
   "outputs": [],
   "source": [
    "def move_two_items_between_bins(bins, bin_capacity):\n",
    "    if len(bins) < 2:\n",
    "        return bins\n",
    "    bin1, bin2 = random.sample(bins, 2)\n",
    "    if len(bin1) < 2:\n",
    "        return bins\n",
    "\n",
    "    items_to_move = random.sample(bin1, 2)\n",
    "    if sum(bin2) + sum(items_to_move) <= bin_capacity:\n",
    "        for item in items_to_move:\n",
    "            bin1.remove(item)\n",
    "            bin2.append(item)\n",
    "\n",
    "        if not bin1:\n",
    "            bins.remove(bin1)\n",
    "\n",
    "    return bins"
   ]
  },
  {
   "cell_type": "code",
   "execution_count": 7,
   "metadata": {},
   "outputs": [],
   "source": [
    "\n",
    "def reverse_bin(bins, bin_capacity):\n",
    "    bin_to_reverse = random.choice(bins)\n",
    "    bin_to_reverse.reverse()\n",
    "    return bins"
   ]
  },
  {
   "cell_type": "code",
   "execution_count": 8,
   "metadata": {},
   "outputs": [],
   "source": [
    "def reverse_bins(bins, bin_capacity):\n",
    "    bins.reverse()\n",
    "    return bins"
   ]
  },
  {
   "cell_type": "code",
   "execution_count": 9,
   "metadata": {},
   "outputs": [],
   "source": [
    "\n",
    "def mutation(bins, bin_capacity):\n",
    "    if len(bins) < 2:\n",
    "        return bins\n",
    "    bin1, bin2 = random.sample(bins, 2)\n",
    "    if not bin1:\n",
    "        return bins\n",
    "\n",
    "    item = random.choice(bin1)\n",
    "    bin1.remove(item)\n",
    "\n",
    "    if sum(bin2) + item <= bin_capacity:\n",
    "        bin2.append(item)\n",
    "    else:\n",
    "        bin1.append(item)\n",
    "\n",
    "    return bins"
   ]
  },
  {
   "cell_type": "code",
   "execution_count": 10,
   "metadata": {},
   "outputs": [],
   "source": [
    "\n",
    "def generate_neighborhood(bins, bin_capacity, k):\n",
    "    new_bins = [bin[:] for bin in bins]\n",
    "    if k == 1:\n",
    "        return move_item_between_bins(new_bins, bin_capacity)\n",
    "    elif k == 2:\n",
    "        return swap_items_between_bins(new_bins, bin_capacity)\n",
    "    elif k == 3:\n",
    "        return reverse_bin(new_bins, bin_capacity)\n",
    "    elif k == 4:\n",
    "        return move_two_items_between_bins(new_bins, bin_capacity)\n",
    "    elif k == 5:\n",
    "        return reverse_bins(new_bins, bin_capacity)\n",
    "    elif k == 6:\n",
    "        return move_item_between_bins(new_bins, bin_capacity)  # Outra vez para variedade\n",
    "    elif k == 7:\n",
    "        return swap_items_between_bins(new_bins, bin_capacity)  # Outra vez para variedade\n",
    "    elif k == 8:\n",
    "        return move_two_items_between_bins(new_bins, bin_capacity)  # Outra vez\n",
    "    elif k == 9:\n",
    "        return reverse_bins(new_bins, bin_capacity)  # Outra vez\n",
    "    elif k == 10:\n",
    "        return reverse_bin(new_bins, bin_capacity)  # Outra vez"
   ]
  },
  {
   "cell_type": "code",
   "execution_count": 11,
   "metadata": {},
   "outputs": [],
   "source": [
    "\n",
    "def vns_bin_packing(items, bin_capacity, max_iterations, mutation_probability, k_max):\n",
    "    current_bins = afdo_bin_packing(items, bin_capacity)\n",
    "    current_cost = cost_solution(current_bins)\n",
    "    print(f\"Inicial: {current_cost} bins\")\n",
    "\n",
    "    iterations = 0\n",
    "\n",
    "    while iterations < max_iterations:\n",
    "        k = 1\n",
    "\n",
    "        while k <= k_max:\n",
    "            new_bins = generate_neighborhood(current_bins, bin_capacity, k)\n",
    "            new_cost = cost_solution(new_bins)\n",
    "\n",
    "            if random.random() < mutation_probability:\n",
    "                new_bins = mutation(new_bins, bin_capacity)\n",
    "                new_cost = cost_solution(new_bins)\n",
    "\n",
    "            if new_cost < current_cost:\n",
    "                current_bins = new_bins\n",
    "                current_cost = new_cost\n",
    "                k = 1  # Reinicia a busca a partir da vizinhança 1\n",
    "            else:\n",
    "                k += 1  # Vai para a próxima vizinhança\n",
    "\n",
    "        iterations += 1\n",
    "\n",
    "    return current_bins, current_cost"
   ]
  }
 ],
 "metadata": {
  "kernelspec": {
   "display_name": "Python 3",
   "language": "python",
   "name": "python3"
  },
  "language_info": {
   "codemirror_mode": {
    "name": "ipython",
    "version": 3
   },
   "file_extension": ".py",
   "mimetype": "text/x-python",
   "name": "python",
   "nbconvert_exporter": "python",
   "pygments_lexer": "ipython3",
   "version": "3.10.12"
  }
 },
 "nbformat": 4,
 "nbformat_minor": 2
}
