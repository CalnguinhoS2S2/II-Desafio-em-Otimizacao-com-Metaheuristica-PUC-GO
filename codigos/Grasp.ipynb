{
 "cells": [
  {
   "cell_type": "code",
   "execution_count": 1,
   "metadata": {},
   "outputs": [],
   "source": [
    "import random"
   ]
  },
  {
   "cell_type": "code",
   "execution_count": 2,
   "metadata": {},
   "outputs": [],
   "source": [
    "def gready(items, bin_capacity):\n",
    "    bins = [] \n",
    "    for item in items: \n",
    "        check = False \n",
    "        for bin in bins:\n",
    "            sum_items = sum(bin)\n",
    "            if sum_items + item <= bin_capacity:\n",
    "                bin.append(item)\n",
    "                check = True\n",
    "                break\n",
    "        if check==False:\n",
    "            bins.append([item])\n",
    "    return bins "
   ]
  },
  {
   "cell_type": "code",
   "execution_count": 3,
   "metadata": {},
   "outputs": [],
   "source": [
    "def local_search(greedy_solution, bin_capacity):\n",
    "    bins = greedy_solution\n",
    "    check = True\n",
    "    while check:\n",
    "        check = False\n",
    "        ale_posi = random.choice(range(len(bins))) \n",
    "        ale_item = random.choice(bins[ale_posi])\n",
    "        for i in range(len(bins)):\n",
    "            sum_items = sum(bins[i])\n",
    "            if i != ale_posi and sum_items + ale_item <= bin_capacity:\n",
    "                bins[i].append(ale_item)\n",
    "                bins[ale_posi].remove(ale_item)\n",
    "                check = True\n",
    "                break\n",
    "        if len(bins[ale_posi]) == 0: \n",
    "            bins.pop(ale_posi)\n",
    "            break\n",
    "    return bins"
   ]
  },
  {
   "cell_type": "code",
   "execution_count": 4,
   "metadata": {},
   "outputs": [],
   "source": [
    "\n",
    "def grasp(items, num_iterations, bin_capacity):\n",
    "    best_bins = []\n",
    "    best_solution = len(items)\n",
    "    for it in range(num_iterations): \n",
    "        ramdom_item = random.sample(items, len(items)) \n",
    "        greedy_solution = gready(ramdom_item, bin_capacity) \n",
    "        BL = local_search(greedy_solution, bin_capacity)\n",
    "        if len(BL) < best_solution:\n",
    "            best_solution = len(BL)\n",
    "            best_bins = BL\n",
    "        print(f\"It {it+1}/{num_iterations} - Numero de caixas: {best_solution}\")\n",
    "    return best_solution, best_bins"
   ]
  }
 ],
 "metadata": {
  "kernelspec": {
   "display_name": "Python 3",
   "language": "python",
   "name": "python3"
  },
  "language_info": {
   "codemirror_mode": {
    "name": "ipython",
    "version": 3
   },
   "file_extension": ".py",
   "mimetype": "text/x-python",
   "name": "python",
   "nbconvert_exporter": "python",
   "pygments_lexer": "ipython3",
   "version": "3.10.12"
  }
 },
 "nbformat": 4,
 "nbformat_minor": 2
}
